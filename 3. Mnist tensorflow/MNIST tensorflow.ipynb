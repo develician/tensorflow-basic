{
 "cells": [
  {
   "cell_type": "code",
   "execution_count": 43,
   "metadata": {},
   "outputs": [],
   "source": [
    "import tensorflow as tf\n",
    "from tensorflow.examples.tutorials.mnist import input_data"
   ]
  },
  {
   "cell_type": "code",
   "execution_count": 44,
   "metadata": {},
   "outputs": [
    {
     "name": "stdout",
     "output_type": "stream",
     "text": [
      "Extracting ./mnist/data/train-images-idx3-ubyte.gz\n",
      "Extracting ./mnist/data/train-labels-idx1-ubyte.gz\n",
      "Extracting ./mnist/data/t10k-images-idx3-ubyte.gz\n",
      "Extracting ./mnist/data/t10k-labels-idx1-ubyte.gz\n"
     ]
    }
   ],
   "source": [
    "mnist = input_data.read_data_sets('./mnist/data/', one_hot=True)"
   ]
  },
  {
   "cell_type": "code",
   "execution_count": 45,
   "metadata": {},
   "outputs": [],
   "source": [
    "X = tf.placeholder(tf.float32, [None, 28 * 28])\n",
    "Y = tf.placeholder(tf.float32, [None, 10])\n",
    "# 28 * 28픽셀로 이루어져 있다. 다시말해 784개의 특징으로 이루어져 있다고 할수 있다.\n",
    "# 레이블은 0부터 9까지 이니 10개의 분류로 나누면 된다."
   ]
  },
  {
   "cell_type": "code",
   "execution_count": 46,
   "metadata": {},
   "outputs": [],
   "source": [
    "# 이미지를 하나씩 학습시키는것보다 여러개를 한꺼번에 학습시키는 쪽이 효과가 좋다. 그러나 그만큼 메모리와 높은 컴퓨팅 성능이 받침되어야 한다.\n",
    "# 따라서 일반적으로 데이터를 적당한 크기로 잘라서 학습시키는데, 이것을 Mini Batch 라고 한다.\n",
    "# X , Y코드에서 텐서의 첫번째 차원이 None 으로 되어있는것을 볼수 있다.\n",
    "# 이 자리에는 한번에 학습시킬 MNIST 이미지의 개수를 지정하는 값이 들어간다. 즉, 배치 크기를 지정하는 자리이다.\n",
    "\n",
    "keep_prob = tf.placeholder(tf.float32)\n",
    "is_trainable = tf.placeholder(tf.bool)\n",
    "\n",
    "# 첫번째 은닉층\n",
    "W1 = tf.Variable(tf.random_normal([28 * 28, 256], stddev=0.01))\n",
    "L1 = tf.nn.relu(tf.matmul(X, W1))\n",
    "# L1 = tf.nn.dropout(L1, keep_prob)\n",
    "L1 = tf.layers.batch_normalization(L1, training=is_trainable)\n",
    "\n",
    "# 두번째 은닉층\n",
    "W2 = tf.Variable(tf.random_normal([256, 256], stddev=0.01))\n",
    "L2 = tf.nn.relu(tf.matmul(L1, W2))\n",
    "# L2 = tf.nn.dropout(L2, keep_prob)\n",
    "L2 = tf.layers.batch_normalization(L2, training=is_trainable)\n",
    "\n",
    "# # 결과값\n",
    "W3 = tf.Variable(tf.random_normal([256, 10], stddev=0.01))\n",
    "model = tf.matmul(L2, W3)"
   ]
  },
  {
   "cell_type": "code",
   "execution_count": 47,
   "metadata": {},
   "outputs": [],
   "source": [
    "# 가중치 많을 구성하여 보았다.\n",
    "# tf.random_normal([256, 256], stddev=0.01) : 표준편차가 0.01인 정규분포를 가지는 임의의 값으로 뉴런(변수)를 초기화\n",
    "\n",
    "# tf.nn.softmax_cross_entropy_with_logits 함수를 이용하여 각 이미지에 대한 손실값(실제값과 예측값의 차이)를 구하고,\n",
    "# tf.reduce_mean함수를 사용해 미니배치의 평균 손실값을 구한다.\n",
    "\n",
    "cost = tf.reduce_mean(tf.nn.softmax_cross_entropy_with_logits(logits=model, labels=Y))\n",
    "optimizer = tf.train.AdamOptimizer(0.001).minimize(cost)"
   ]
  },
  {
   "cell_type": "code",
   "execution_count": 48,
   "metadata": {},
   "outputs": [],
   "source": [
    "init = tf.global_variables_initializer()\n",
    "sess = tf.Session()\n",
    "sess.run(init)"
   ]
  },
  {
   "cell_type": "code",
   "execution_count": 49,
   "metadata": {},
   "outputs": [],
   "source": [
    "batch_size = 100\n",
    "total_batch = int(mnist.train.num_examples / batch_size)\n",
    "# 학습데이터의 총 개수인 mnist.train.num_examples를 배치크기로 나눠 미니배치가 총 몇개인지 저장"
   ]
  },
  {
   "cell_type": "code",
   "execution_count": 50,
   "metadata": {},
   "outputs": [
    {
     "name": "stdout",
     "output_type": "stream",
     "text": [
      "Epoch: 0001 Avg. cost = 0.196\n",
      "Epoch: 0002 Avg. cost = 0.088\n",
      "Epoch: 0003 Avg. cost = 0.063\n",
      "Epoch: 0004 Avg. cost = 0.047\n",
      "Epoch: 0005 Avg. cost = 0.040\n",
      "Epoch: 0006 Avg. cost = 0.034\n",
      "Epoch: 0007 Avg. cost = 0.027\n",
      "Epoch: 0008 Avg. cost = 0.025\n",
      "Epoch: 0009 Avg. cost = 0.024\n",
      "Epoch: 0010 Avg. cost = 0.019\n",
      "Epoch: 0011 Avg. cost = 0.016\n",
      "Epoch: 0012 Avg. cost = 0.017\n",
      "Epoch: 0013 Avg. cost = 0.016\n",
      "Epoch: 0014 Avg. cost = 0.014\n",
      "Epoch: 0015 Avg. cost = 0.013\n",
      "Epoch: 0016 Avg. cost = 0.011\n",
      "Epoch: 0017 Avg. cost = 0.012\n",
      "Epoch: 0018 Avg. cost = 0.011\n",
      "Epoch: 0019 Avg. cost = 0.010\n",
      "Epoch: 0020 Avg. cost = 0.010\n",
      "Epoch: 0021 Avg. cost = 0.009\n",
      "Epoch: 0022 Avg. cost = 0.009\n",
      "Epoch: 0023 Avg. cost = 0.007\n",
      "Epoch: 0024 Avg. cost = 0.010\n",
      "Epoch: 0025 Avg. cost = 0.008\n",
      "Epoch: 0026 Avg. cost = 0.007\n",
      "Epoch: 0027 Avg. cost = 0.007\n",
      "Epoch: 0028 Avg. cost = 0.008\n",
      "Epoch: 0029 Avg. cost = 0.006\n",
      "Epoch: 0030 Avg. cost = 0.005\n",
      "Optimization done!\n"
     ]
    }
   ],
   "source": [
    "for epoch in range(30):\n",
    "    total_cost = 0\n",
    "    \n",
    "    for i in range(total_batch):\n",
    "        batch_xs, batch_ys = mnist.train.next_batch(batch_size)\n",
    "        \n",
    "        _, cost_val = sess.run([optimizer, cost], feed_dict={\n",
    "            X: batch_xs, \n",
    "            Y: batch_ys, \n",
    "#             keep_prob: 0.8,\n",
    "            is_trainable: True\n",
    "        })\n",
    "        total_cost += cost_val\n",
    "    print('Epoch: %04d' % (epoch + 1), 'Avg. cost = {:.3f}'.format(total_cost / total_batch) )\n",
    "print('Optimization done!')"
   ]
  },
  {
   "cell_type": "code",
   "execution_count": 51,
   "metadata": {},
   "outputs": [],
   "source": [
    "is_correct = tf.equal(tf.argmax(model, 1), tf.argmax(Y, 1))\n",
    "\n",
    "# 예측결과인 model의 값과 실제 레이블인 Y의 값을 비교"
   ]
  },
  {
   "cell_type": "code",
   "execution_count": 52,
   "metadata": {},
   "outputs": [],
   "source": [
    "accuracy = tf.reduce_mean(tf.cast(is_correct, tf.float32))"
   ]
  },
  {
   "cell_type": "code",
   "execution_count": 54,
   "metadata": {},
   "outputs": [
    {
     "name": "stdout",
     "output_type": "stream",
     "text": [
      "정확도: 0.9823\n"
     ]
    }
   ],
   "source": [
    "print('정확도:', sess.run(accuracy, feed_dict={\n",
    "    X: mnist.test.images, \n",
    "    Y: mnist.test.labels, \n",
    "#     keep_prob: 1,\n",
    "    is_trainable: True\n",
    "}))"
   ]
  },
  {
   "cell_type": "code",
   "execution_count": null,
   "metadata": {},
   "outputs": [],
   "source": []
  }
 ],
 "metadata": {
  "kernelspec": {
   "display_name": "Python 3",
   "language": "python",
   "name": "python3"
  },
  "language_info": {
   "codemirror_mode": {
    "name": "ipython",
    "version": 3
   },
   "file_extension": ".py",
   "mimetype": "text/x-python",
   "name": "python",
   "nbconvert_exporter": "python",
   "pygments_lexer": "ipython3",
   "version": "3.6.8"
  }
 },
 "nbformat": 4,
 "nbformat_minor": 2
}
